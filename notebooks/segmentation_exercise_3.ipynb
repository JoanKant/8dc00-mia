{
 "cells": [
  {
   "cell_type": "markdown",
   "metadata": {},
   "source": [
    "# 3. Atlases and active shapes"
   ]
  },
  {
   "cell_type": "markdown",
   "metadata": {},
   "source": [
    "## 3.1. Atlas-based segmentation"
   ]
  },
  {
   "cell_type": "markdown",
   "metadata": {},
   "source": [
    "For this question we will use the ground-truth segmentations of different subjects as different atlases to do brain/not brain segmentation. Load the labels for subjects 1 to 5 as `labels1` to `labels5` with `create_labels`, which is almost the same as `create_dataset` but here we do not need the features. Subjects 1 to 4 will be training data and subject 5 will be test data. For the exercise we will assume the images are registered to each other, but in practice, you would have to perform registration first. Let's combine the labels and view how the true mask compares to the predicted mask:\n",
    "\n",
    "```python\n",
    "# Combine labels of training images:\n",
    "predicted_labels = stats.mode(all_labels_matrix[:,:4], axis=1)[0]\n",
    "\n",
    "# Convert combined label into mask image:\n",
    "predicted_mask = predicted_labels.reshape(240,240)\n",
    "\n",
    "# Convert true label into mask image:\n",
    "true_mask = all_labels_matrix[:,4].reshape(240,240)\n",
    "\n",
    "# View both masks on the same axis using imshow()\n",
    "```\n",
    "\n",
    "This functionality has also been implemented for you in the function `segmentation_combined_atlas()` in `# SECTION 3` of the `segmentation.py` module, look at the documentation to familiarize yourself with the syntax (i.e. what inputs and outputs are there). \n",
    "\n",
    "### EXERCISE:\n",
    "\n",
    "Complete the function `segmentation_combined_atlas_test()` using the code above, and test the functionality of atlas-based segmentation. Calculate the error and the Dice overlap of your predicted mask and add them to the plot. Your result might look like this:\n",
    "\n",
    "<img src=\"../notebooks/assets/atlas.png\" width=\"500\" height=\"500\" align=\"center\"/>\n"
   ]
  },
  {
   "cell_type": "code",
   "execution_count": null,
   "metadata": {},
   "outputs": [],
   "source": [
    "%matplotlib inline\n",
    "import sys\n",
    "sys.path.append(\"../code\")\n",
    "from segmentation_tests import segmentation_combined_atlas_test\n",
    "\n",
    "segmentation_combined_atlas_test()\n"
   ]
  },
  {
   "cell_type": "markdown",
   "metadata": {},
   "source": [
    "### (A)\n",
    "### QUESTION:\n",
    "Use `segmentation_combined_atlas()` to segment other subjects. Are the results similar for all subjects, or are some subjects better than others? Why?"
   ]
  },
  {
   "cell_type": "markdown",
   "metadata": {},
   "source": [
    "### (B)\n",
    "### EXERCISE:\n",
    "Inspect the documentation of `min` and `max`. Add two `elseif` statements in the code (between `if` and `else`, for combining the labels with these functions. Test your additions with the function `segmentation_combined_atlas_minmax_test()` in `# SECTION 3` of the `segmentation_tests.py` module."
   ]
  },
  {
   "cell_type": "code",
   "execution_count": null,
   "metadata": {},
   "outputs": [],
   "source": [
    "%matplotlib inline\n",
    "import sys\n",
    "sys.path.append(\"../code\")\n",
    "from segmentation_tests import segmentation_combined_atlas_minmax_test\n",
    "segmentation_combined_atlas_minmax_test()"
   ]
  },
  {
   "cell_type": "markdown",
   "metadata": {},
   "source": [
    "### QUESTION:\n",
    "How can you describe what these options are doing in terms of how many atlases predict each class? What can you say about the size of the predicted segmentation, relative to the size of the true segmentation for each of these options?"
   ]
  },
  {
   "cell_type": "markdown",
   "metadata": {},
   "source": [
    "### (C)\n",
    "### EXERCISE:\n",
    "Note that the code for options you described above will only work for binary labels! As an example to demonstrate this, try combining the labels `[0, 1, 2, 3]`, `[0, 1, 3, 1]` and `[3, 3, 1, 0]` by hand. (Here the numbers 0, 1, 2, 3 correspond to four different classes, for example tissue types)."
   ]
  },
  {
   "cell_type": "markdown",
   "metadata": {},
   "source": [
    "## 3.2. Combining $k$-NN classifiers"
   ]
  },
  {
   "cell_type": "markdown",
   "metadata": {},
   "source": [
    "In this question we combine $k$-NN classifiers trained on different subjects. This functionality is also already implemented for you in the function `segmentation_combined_knn()` in `# SECTION 3` of the `segmentation.py` module,"
   ]
  },
  {
   "cell_type": "markdown",
   "metadata": {},
   "source": [
    "### (A)\n",
    "### QUESTION:\n",
    "What would you expect from the results of this combined method, compared to training $k$-NN on only one subject? Test your hypothesis on one of the subjects. (You can use `segmentation_knn()` to do this, note that this function has an extra input, since you need to specify which training subject you want to use!)"
   ]
  },
  {
   "cell_type": "markdown",
   "metadata": {},
   "source": [
    "### (B)\n",
    "### QUESTION:\n",
    "What could you do if you wanted to combine more than four classifiers (giving different decisions) here, but you could only use a 5-NN classifier? "
   ]
  },
  {
   "cell_type": "markdown",
   "metadata": {},
   "source": [
    "## 3.3. Active shape models"
   ]
  },
  {
   "cell_type": "markdown",
   "metadata": {},
   "source": [
    "### (A)\n",
    "### EXERCISE:\n",
    "Load `coordinates.txt` which contains coordinates of 40 hand shapes, each represented by 56 points. Dimensions 1 to 56 store the $x$-coordinate and dimensions 57 to 112 store the $y$-coordinate. Plot a few shapes to examine the variation. What do you think the mean shape will look like? Compute it to verify your guess."
   ]
  },
  {
   "cell_type": "code",
   "execution_count": 17,
   "metadata": {},
   "outputs": [
    {
     "data": {
      "text/plain": [
       "[<matplotlib.lines.Line2D at 0x1b0497fc1d0>]"
      ]
     },
     "execution_count": 17,
     "metadata": {},
     "output_type": "execute_result"
    },
    {
     "data": {
      "image/png": "[encoded data removed]",
      "text/plain": [
       "<Figure size 432x288 with 1 Axes>"
      ]
     },
     "metadata": {
      "needs_background": "light"
     },
     "output_type": "display_data"
    }
   ],
   "source": [
    "%matplotlib inline\n",
    "import sys\n",
    "sys.path.append(\"../code\")\n",
    "import matplotlib.pyplot as plt\n",
    "import numpy as np\n",
    "import segmentation_util as util\n",
    "from scipy import stats\n",
    "import scipy.io\n",
    "\n",
    "\n",
    "fn = '../data/dataset_hands/coordinates.txt'\n",
    "coordinates =  np.loadtxt(fn)\n",
    "\n",
    "\n",
    "plt.plot(coordinates[0,0:55], coordinates[0,56:111]);\n",
    "plt.plot(coordinates[5,0:55], coordinates[5,56:111], 'r')\n",
    "\n",
    "\n"
   ]
  },
  {
   "cell_type": "markdown",
   "metadata": {},
   "source": [
    "### (B)\n",
    "### EXERCISE:\n",
    "Apply `mypca` on the coordinates data. How many dimensions are needed to describe 98% of the variance? Store only the vectors corresponding to these dimensions in `U`."
   ]
  },
  {
   "cell_type": "code",
   "execution_count": 18,
   "metadata": {},
   "outputs": [],
   "source": [
    "%matplotlib inline\n",
    "import sys\n",
    "sys.path.append(\"../code\")\n",
    "import segmentation as seg\n",
    "import numpy as np\n",
    "\n",
    "fn = '../data/dataset_hands/coordinates.txt'\n",
    "coordinates =  np.loadtxt(fn)\n",
    "\n"
   ]
  },
  {
   "cell_type": "markdown",
   "metadata": {},
   "source": [
    "### (C)\n",
    "### EXERCISE:\n",
    "Create a loop to go through the dimensions left in `U` and compute a variation that this dimension produces. For the weight, you might want to use the corresponding eigenvalue multiplied by a small scaling factor, like 5. What are the main variation that you notice?"
   ]
  },
  {
   "cell_type": "markdown",
   "metadata": {},
   "source": [
    "### (D)\n",
    "### EXERCISE:\n",
    "Load the image `test001.jpg` and view it in grayscale. If you were to plot the hand template on top of this image, what do you expect to happen? Verify your hypothesis."
   ]
  },
  {
   "cell_type": "code",
   "execution_count": null,
   "metadata": {},
   "outputs": [],
   "source": [
    "%matplotlib inline\n",
    "import sys\n",
    "sys.path.append(\"../code\")\n",
    "import matplotlib.pyplot as plt\n",
    "import numpy as np\n",
    "import segmentation_util as util\n",
    "from scipy import stats\n",
    "import scipy.io\n",
    "from segmentation import generate_gaussian_data \n",
    "\n",
    "fn = '../data/dataset_hands/test001.jpg'\n",
    "img_hand =  plt.imread(fn)\n",
    "\n",
    "fn = '../data/dataset_hands/coordinates.txt'\n",
    "coordinates =  np.loadtxt(fn)\n",
    "\n"
   ]
  },
  {
   "cell_type": "markdown",
   "metadata": {},
   "source": [
    "### (E)\n",
    "### EXERCISE:\n",
    "Transform your mean hand shape into a 2x56 dataset with `initialpos = [[meanhand[0,0:56]], [meanhand[0,57:112]]]`. Think about the registration exercises you did before. Define a transformation matrix (you can try out yourself what numbers are needed) and use it to plot the hand template close to the hand in the image."
   ]
  },
  {
   "cell_type": "markdown",
   "metadata": {},
   "source": [
    "## 3.4. Active shape models"
   ]
  },
  {
   "cell_type": "markdown",
   "metadata": {},
   "source": [
    "### (A)\n",
    "### QUESTION:\n",
    "Consider the active shape model for segmentation of the ventricles in the sample brain images. Describe what steps you would need to do for the data that is available to us, to train a shape model of the ventricles."
   ]
  },
  {
   "cell_type": "markdown",
   "metadata": {},
   "source": [
    "### (B)\n",
    "### EXERCISE:\n",
    "You can inspect the mask of the ventricles in the sample brain images using the code below."
   ]
  },
  {
   "cell_type": "code",
   "execution_count": null,
   "metadata": {},
   "outputs": [],
   "source": [
    "GT = plt.imread('../data/dataset_brains/1_1_gt.tif')\n",
    "gtMask = GT == 4\n",
    "fig = plt.figure(figsize=(10,10))\n",
    "ax1  = fig.add_subplot(121)\n",
    "ax1.imshow(GT)\n",
    "ax2  = fig.add_subplot(122)\n",
    "ax2.imshow(gtMask)"
   ]
  },
  {
   "cell_type": "markdown",
   "metadata": {},
   "source": [
    "### QUESTION:\n",
    "Look at the ventricle masks for different subjects and different slices. Based on the shapes that you see, what difficulties do you think you might face, if you wanted to train an active shape model? How could you modify the dataset to overcome these difficulties?"
   ]
  },
  {
   "cell_type": "code",
   "execution_count": null,
   "metadata": {},
   "outputs": [],
   "source": []
  }
 ],
 "metadata": {
  "kernelspec": {
   "display_name": "Python 3",
   "language": "python",
   "name": "python3"
  },
  "language_info": {
   "codemirror_mode": {
    "name": "ipython",
    "version": 3
   },
   "file_extension": ".py",
   "mimetype": "text/x-python",
   "name": "python",
   "nbconvert_exporter": "python",
   "pygments_lexer": "ipython3",
   "version": "3.7.3"
  }
 },
 "nbformat": 4,
 "nbformat_minor": 4
}
